{
 "cells": [
  {
   "cell_type": "code",
   "execution_count": 4,
   "metadata": {},
   "outputs": [],
   "source": [
    "import psycopg2\n",
    "\n",
    "\n",
    "connection = psycopg2.connect(\n",
    "    dbname='postgres',\n",
    "    user='postgres',\n",
    "    password='hello123',\n",
    "    host='apprentice-training-2023-rds.cth7tqaptja4.us-west-1.rds.amazonaws.com',\n",
    "    port='5432'\n",
    ")"
   ]
  },
  {
   "cell_type": "code",
   "execution_count": 5,
   "metadata": {},
   "outputs": [
    {
     "name": "stdout",
     "output_type": "stream",
     "text": [
      "Table created successfully\n"
     ]
    }
   ],
   "source": [
    "# creating the table into both local and server database\n",
    "create_table_query = \"\"\"\n",
    "CREATE TABLE Suzan_player_info (\n",
    "    player_id INT PRIMARY KEY,\n",
    "    full_name VARCHAR(100),\n",
    "    position VARCHAR(50),\n",
    "    team VARCHAR(100),\n",
    "    city VARCHAR(50),\n",
    "    height_feet INT,\n",
    "    height_inches INT,\n",
    "    weight_pounds FLOAT\n",
    ");\n",
    "\n",
    "\"\"\"\n",
    "\n",
    "cursor = connection.cursor()\n",
    "\n",
    "# Execute the query to create the table\n",
    "cursor.execute(create_table_query)\n",
    "connection.commit()\n",
    "print(\"Table created successfully\")"
   ]
  },
  {
   "cell_type": "code",
   "execution_count": null,
   "metadata": {},
   "outputs": [],
   "source": []
  }
 ],
 "metadata": {
  "kernelspec": {
   "display_name": "Python 3",
   "language": "python",
   "name": "python3"
  },
  "language_info": {
   "codemirror_mode": {
    "name": "ipython",
    "version": 3
   },
   "file_extension": ".py",
   "mimetype": "text/x-python",
   "name": "python",
   "nbconvert_exporter": "python",
   "pygments_lexer": "ipython3",
   "version": "3.8.10"
  },
  "orig_nbformat": 4
 },
 "nbformat": 4,
 "nbformat_minor": 2
}
